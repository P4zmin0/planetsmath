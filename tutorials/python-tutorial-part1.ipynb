{
  "cells": [
    {
      "cell_type": "markdown",
      "metadata": {
        "id": "view-in-github",
        "colab_type": "text"
      },
      "source": [
        "<a href=\"https://colab.research.google.com/github/P4zmin0/planetsmath/blob/fix_precommit/tutorials/python-tutorial-part1.ipynb\" target=\"_parent\"><img src=\"https://colab.research.google.com/assets/colab-badge.svg\" alt=\"Open In Colab\"/></a>"
      ]
    },
    {
      "cell_type": "markdown",
      "metadata": {
        "id": "iZhcAzPV014E"
      },
      "source": [
        "# Python Tutorial - Part 1\n",
        "\n",
        "### Covered Topics\n",
        "- Printing to the console\n",
        "- Comments\n",
        "- Variables\n",
        "- Data Types\n",
        "- Operators\n",
        "- Collections\n",
        "- Functions\n",
        "- Conditions\n",
        "- Loops\n",
        "\n",
        "Reference: https://www.w3schools.com/python/"
      ]
    },
    {
      "cell_type": "markdown",
      "metadata": {
        "id": "znZ2pDij014H"
      },
      "source": [
        "## Hello World\n",
        "\n",
        "The first thing you learn in any programming language is to print \"Hello, World!\". This is a simple program that prints Hello, World! on the screen. It is a simple program that shows the most basic structure of a Python program.\n",
        "\n",
        "In python we can print things to the console using the `print()` function."
      ]
    },
    {
      "cell_type": "code",
      "execution_count": null,
      "metadata": {
        "id": "4YbWUVl2014I"
      },
      "outputs": [],
      "source": [
        "# Let's try it!\n",
        "# By the way, this is a comment...\n",
        "\n"
      ]
    },
    {
      "cell_type": "markdown",
      "metadata": {
        "id": "KWGcTQTl014J"
      },
      "source": [
        "## Variables\n",
        "\n",
        "A variable is a container for storing data. To create a variable, you just need to assign a value to it using the `=` operator."
      ]
    },
    {
      "cell_type": "code",
      "execution_count": null,
      "metadata": {
        "id": "ewHnCEvF014J"
      },
      "outputs": [],
      "source": [
        "# See below how we can store the data of a student in variables:\n",
        "\n",
        "name = \"Alice\"\n",
        "age = 25\n",
        "grade = 9.7\n",
        "paper_deliverd = True\n",
        "\n",
        "# How could we print Alice's data to the screen?\n"
      ]
    },
    {
      "cell_type": "markdown",
      "metadata": {
        "id": "tdN-mxVA014K"
      },
      "source": [
        "Python is a very expressive language. Sometimes there's more than one way to do the same thing. See how we can store Bob's data in a single line."
      ]
    },
    {
      "cell_type": "code",
      "execution_count": null,
      "metadata": {
        "id": "wFcb5VTi014K"
      },
      "outputs": [],
      "source": [
        "name, age, grade, paper_deliverd = \"Bob\", 22, 3.5, False\n",
        "\n",
        "# Can you print more of Bob's data to the screen at once?\n"
      ]
    },
    {
      "cell_type": "markdown",
      "metadata": {
        "id": "EnKyGpyd014L"
      },
      "source": [
        "## Data Types\n",
        "\n",
        "Python has various data types. Some of the important types are:\n",
        "| type    | Description            |\n",
        "|---------|------------------------|\n",
        "| `int`   | Integer                |\n",
        "| `float` | Floating Point Number  |\n",
        "| `str`   | String (Text)          |\n",
        "| `bool`  | Boolean (True or False)|\n",
        "\n",
        "There are many more data types in Python. We will cover some of them in the next parts of this tutorial.\n",
        "You can check the type of a variable using the `type()` function."
      ]
    },
    {
      "cell_type": "code",
      "execution_count": null,
      "metadata": {
        "id": "Ht6_6brs014L"
      },
      "outputs": [],
      "source": [
        "# Let's find out the types of the variables we have created:\n",
        "\n",
        "print(\"name    ->\", type(name))\n",
        "print(\"age     ->\", type(age))\n",
        "print(\"grade   ->\", type(grade))\n",
        "print(\"paper_deliverd ->\", type(paper_deliverd))"
      ]
    },
    {
      "cell_type": "markdown",
      "metadata": {
        "id": "wwk0tHCm014L"
      },
      "source": [
        "## Operators\n",
        "\n",
        "To make things more dynamic, we can use operators to manipulate our variables. There are a few types of operators in Python. We already saw the assignment operator `=`. Let's start with arithmetic operators:\n",
        "\n",
        "### Arithmetic Operators\n",
        "| Operator | Descriptiom    | Example     |\n",
        "|----------|----------------|-------------|\n",
        "| `+`      | Addition       | `x + y`     |\n",
        "| `-`      | Subtraction    | `x - y`     |\n",
        "| `*`      | Multiplication | `x * y`     |\n",
        "| `/`      | Division       | `x / y`     |\n",
        "| `%`      | Modulus        | `x % y`     |\n",
        "| `**`     | Exponentiation | `x ** y`    |\n",
        "| `//`     | Floor Division | `x // y`    |\n",
        "\n",
        "We'll see more operators in the next parts of this tutorial.\n",
        "As you might have guessed, we can use this operators to perform math operations."
      ]
    },
    {
      "cell_type": "code",
      "execution_count": null,
      "metadata": {
        "id": "tE6cddQ9014L"
      },
      "outputs": [],
      "source": [
        "# Here's how it works:\n",
        "\n",
        "print(10 + 5)\n",
        "print(5.3 - 2)\n",
        "print(3 * 3)"
      ]
    },
    {
      "cell_type": "markdown",
      "metadata": {
        "id": "x6xii2WC014M"
      },
      "source": [
        "When we combine variables and operators, thigs start to get interesting. Let's see some examples."
      ]
    },
    {
      "cell_type": "code",
      "execution_count": null,
      "metadata": {
        "id": "gt-QqIFk014M"
      },
      "outputs": [],
      "source": [
        "# Let's calculate the hypotenuse of the following right triangle:\n",
        "\n",
        "#   |\\\n",
        "# A | \\ C\n",
        "#   |  \\\n",
        "#   |___\\\n",
        "#     B\n",
        "\n",
        "A = 4\n",
        "B = 3\n",
        "\n",
        "print(\"C squared is:\", A**2 + B**2)\n",
        "\n",
        "# How can we calculate the square root of C?\n"
      ]
    },
    {
      "cell_type": "markdown",
      "metadata": {
        "id": "VX-M2bmi014M"
      },
      "source": [
        "## Collections\n",
        "\n",
        "Let's get back to our students example. For each student we created four variables: `name`, `age`, `grade` and `paper_deliverd`. What if students have more than just one grade? What if we need to store more than one student? Managing all these variables can get messy.\n",
        "\n",
        "Python has some data structures that can help us with that. We will see a couple in this section.\n",
        "\n",
        "### Lists\n",
        "\n",
        "A list is a Python data structure that can store multiple values. It is ordered, _mutable_ and allows _duplicate_ elements.\n",
        "We can use a list to store all the grades of a student."
      ]
    },
    {
      "cell_type": "code",
      "execution_count": null,
      "metadata": {
        "id": "Xd6pVu1L014M"
      },
      "outputs": [],
      "source": [
        "# This is how we can define a list of grades:\n",
        "\n",
        "grades = [9.7, 8.5, 7.2]\n",
        "print(grades)\n",
        "\n",
        "# How can we print the first grade in the list?"
      ]
    },
    {
      "cell_type": "markdown",
      "metadata": {
        "id": "4cfSgJ2W014M"
      },
      "source": [
        "What if we forget to add a grade to the list? Do we need to type all those grades again? No! We can use the `append()` method to add a new element to the list."
      ]
    },
    {
      "cell_type": "code",
      "execution_count": null,
      "metadata": {
        "id": "C65hFm7l014M"
      },
      "outputs": [],
      "source": [
        "# Here's how we add a new grade to the list:\n",
        "\n",
        "grades.append(6.3)\n",
        "print(grades)\n",
        "\n",
        "# List has a lot of other useful methods. Take some time to explore them!\n",
        "# You can list the methods of an object with the dir() function."
      ]
    },
    {
      "cell_type": "markdown",
      "metadata": {
        "id": "JhZH9cUs014M"
      },
      "source": [
        "### Dictionaries\n",
        "\n",
        "We still have a proble. A single student is stored in multiple variables. Keeping track of all these variables can be hard.\n",
        "Python has a data structure called dictionary that can help us with that. A dictionary is a collection which is _unordered_, _mutable_ and indexed."
      ]
    },
    {
      "cell_type": "code",
      "execution_count": null,
      "metadata": {
        "id": "BwCiw-dV014N"
      },
      "outputs": [],
      "source": [
        "# Here is how we can create a dictionary to store a student:\n",
        "\n",
        "alice = {\n",
        "    \"name\": \"Alice\",\n",
        "    \"age\": 25,\n",
        "    \"grade\": [9.7, 8.5, 7.2, 6.3],\n",
        "    \"paper_deliverd\": True\n",
        "}\n",
        "\n",
        "print(alice)\n",
        "\n",
        "# How can we print Alice's age?"
      ]
    },
    {
      "cell_type": "markdown",
      "metadata": {
        "id": "Vk9U_aVV014O"
      },
      "source": [
        "### Complex Structures\n",
        "\n",
        "Things are getting more organized, but we still have to keep track of one dictionary for each student. What if we have a lot of students? Could we create a list of student dictionaries?"
      ]
    },
    {
      "cell_type": "code",
      "execution_count": null,
      "metadata": {
        "id": "QbV31g4E014O"
      },
      "outputs": [],
      "source": [
        "# Here's Bob's data in a dictionary:\n",
        "\n",
        "bob = {\n",
        "    \"name\": \"Bob\",\n",
        "    \"age\": 22,\n",
        "    \"grade\": [7.5, 7.2, 7.1, 6.0],\n",
        "    \"paper_deliverd\": False\n",
        "}\n",
        "\n",
        "print(bob)\n",
        "\n",
        "# How can we create and manipulate a list of students?"
      ]
    },
    {
      "cell_type": "markdown",
      "metadata": {
        "id": "wFufyXsF014O"
      },
      "source": [
        "### Other Collections\n",
        "\n",
        "Python has other collections such as `tuples` and `sets`. We won't cover them in this tutorial, but you should check them out in the reference."
      ]
    },
    {
      "cell_type": "markdown",
      "metadata": {
        "id": "BsfbU2TJ014O"
      },
      "source": [
        "## Functions\n",
        "\n",
        "When programming, we often need to perform the same task multiple times. Let's revisit our hypotenuse example. We calculated the hypotenuse of a triangle with the following code:\n",
        "\n",
        "```python\n",
        "A = 4\n",
        "B = 3\n",
        "C = (A**2 + B**2)**0.5\n",
        "```\n",
        "\n",
        "What if we need to calculate the hypotenuse of another triangle? We could copy and paste the code and change the values of `A` and `B`. But what if we need to calculate the hypotenuse of 100 triangles? We could use a function to do that.\n",
        "\n",
        "Python functions are similar to math functions. They take some input, perform some operations and return a result."
      ]
    },
    {
      "cell_type": "code",
      "execution_count": null,
      "metadata": {
        "id": "EwMOROSn014O"
      },
      "outputs": [],
      "source": [
        "# Here's how we can define a function to calculate the hypotenuse of a right triangle:\n",
        "\n",
        "def hypotenuse(A, B):\n",
        "    return (A**2 + B**2)**0.5\n",
        "\n",
        "print(hypotenuse(4, 3))\n",
        "\n",
        "# How can we define a function to calculate the average of a list of grades?\n",
        "# What's the average of each student's grades?\n",
        "\n",
        "# By the way, meet Charlie!\n",
        "charlie = {\n",
        "    \"name\": \"Charlie\",\n",
        "    \"age\": 23,\n",
        "    \"grade\": [8.5, 8.2, 7.1, 6.0],\n",
        "    \"paper_deliverd\": True\n",
        "}\n"
      ]
    },
    {
      "cell_type": "markdown",
      "metadata": {
        "id": "98W3deOz014P"
      },
      "source": [
        "## Conditions\n",
        "\n",
        "Now that we have a function to calculate the average of a student's grades, we can use it to help determine if a student passed or failed. We can use `if` statements to do that. In our example, we will consider that a student passes if their average grade is greater than or equal to 7 and they delivered the paper (`paper_delivered` is `True`).\n",
        "\n",
        "`if` statements evaluate a logical expression and execute a block of code if the expression is `True`. They can be followed by an `else` block that is executed if the expression is `False`.\n",
        "\n",
        "Logical expressions use comparison and logical operators to evaluate if a statement is `True` or `False`. Next we'll see what operators we can use.\n",
        "\n",
        "### Comparison Operators\n",
        "| Operator | Description           | Example     |\n",
        "|----------|-----------------------|-------------|\n",
        "| `==`     | Equal                 | `x == y`    |\n",
        "| `!=`     | Not Equal             | `x != y`    |\n",
        "| `>`      | Greater Than          | `x > y`     |\n",
        "| `<`      | Less Than             | `x < y`     |\n",
        "| `>=`     | Greater Than or Equal | `x >= y`    |\n",
        "| `<=`     | Less Than or Equal    | `x <= y`    |\n",
        "\n",
        "### Logical Operators\n",
        "| Operator | Description                                             | Example                 |\n",
        "|----------|---------------------------------------------------------|-------------------------|\n",
        "| `and`    | Returns True if both statements are true                | `x < 5 and  x < 10`     |\n",
        "| `or`     | Returns True if one of the statements is true           | `x < 5 or x < 4`        |\n",
        "| `not`    | Reverse the result, returns False if the result is true | `not(x < 5 and x < 10)` |"
      ]
    },
    {
      "cell_type": "code",
      "execution_count": null,
      "metadata": {
        "id": "mQnnHB1h014P"
      },
      "outputs": [],
      "source": [
        "# Here is how we can check if a student passed or not:\n",
        "\n",
        "average_grade = 8.5\n",
        "paper_deliverd = True\n",
        "if average_grade >= 7 and paper_deliverd == True:\n",
        "    print(\"Passed!\")\n",
        "else:\n",
        "    print(\"Failed!\")\n",
        "\n",
        "\n",
        "# How could we write a function that receives a student and returns `True` if they passed and `False` otherwise?\n",
        "# Use the function to check if each student passed or not.\n"
      ]
    },
    {
      "cell_type": "markdown",
      "metadata": {
        "id": "LdFzg1Wx014P"
      },
      "source": [
        "## Loops\n",
        "\n",
        "As we saw in the previous sections, we can call a function multiple times to perform the same task, but what if we need to calculate the average grade of 100 students? We could call the function 100 times, but that would be a lot of work. We could use a loop to do that.\n",
        "\n",
        "### For Loop\n",
        "\n",
        "When we need to go through (**iterate**) a collection of elements, we can use a `for` loop. If we have a list of students, we can use a `for` loop to print their names and ages to the console."
      ]
    },
    {
      "cell_type": "code",
      "execution_count": null,
      "metadata": {
        "id": "ABl-9yfb014P"
      },
      "outputs": [],
      "source": [
        "# This is how a for loop works:\n",
        "\n",
        "students = [alice, bob, charlie]\n",
        "for student in students:\n",
        "    print(student[\"name\"], \"is\", student[\"age\"], \"years old.\")\n",
        "\n",
        "# Can we improve our function to calculate a student's average grade? Could a student have more than froud grades?"
      ]
    },
    {
      "cell_type": "markdown",
      "metadata": {
        "id": "vmdvzz1l014P"
      },
      "source": [
        "### While Loop\n",
        "\n",
        "A `while` loop is used to execute a block of code multiple times as long as a condition is `True`. A `while` takes a condition just like an `if` statement. The difference is that the code block is executed multiple times until the condition is `False`."
      ]
    },
    {
      "cell_type": "code",
      "execution_count": null,
      "metadata": {
        "id": "1BlvWzEX014P"
      },
      "outputs": [],
      "source": [
        "# With this while loop we can look for the first student younger than 24:\n",
        "\n",
        "i = 0\n",
        "while students[i][\"age\"] >= 24:\n",
        "    i += 1\n",
        "print(students[i][\"name\"], \"is younger than 24.\")"
      ]
    },
    {
      "cell_type": "markdown",
      "metadata": {
        "id": "IGMPhfrl014P"
      },
      "source": [
        "Now that we know how to use `while` loops, we can use it to help us grading their papers. They were given a paper to ~~annoy them~~ test their suming skills. The paper requires them to write 10 numbers greater than 10. The paper is graded by counting how many numbers can be summed before reaching more than 100. If a number is smaller than 10, the paper grade is 0. See the example below:\n",
        "\n",
        "```python\n",
        "paper = [10, 10, 11, 20, 32, 14, 23, 13, 12, 10]\n",
        "```\n",
        "\n",
        "We can sum 10, 10, 10, 11, 12, 13, and 14, 20 before reaching more than 100. The paper grade is 8.\n",
        "\n",
        "HINT: use the `sort()` method to sort the list in ascending order."
      ]
    },
    {
      "cell_type": "code",
      "execution_count": null,
      "metadata": {
        "id": "IV6g5yxL014Q"
      },
      "outputs": [],
      "source": [
        "papers = [\n",
        "    [10, 10, 11, 20, 32, 14, 20, 13, 12, 10],\n",
        "    [11, 12, 13, 14, 15, 16, 17, 18, 19, 20],\n",
        "    [15, 17, 18, 24, 21, 27, 15, 19, 17, 18],\n",
        "    [11, 11, 11, 11, 11, 11, 1, 11, 11, 11],\n",
        "]\n",
        "\n",
        "# How can we write a function that uses a `while` loop to validate each student's grades?\n"
      ]
    }
  ],
  "metadata": {
    "kernelspec": {
      "display_name": "Python 3",
      "language": "python",
      "name": "python3"
    },
    "language_info": {
      "codemirror_mode": {
        "name": "ipython",
        "version": 3
      },
      "file_extension": ".py",
      "mimetype": "text/x-python",
      "name": "python",
      "nbconvert_exporter": "python",
      "pygments_lexer": "ipython3",
      "version": "3.11.undefined"
    },
    "colab": {
      "provenance": [],
      "include_colab_link": true
    }
  },
  "nbformat": 4,
  "nbformat_minor": 0
}